{
 "cells": [
  {
   "cell_type": "code",
   "execution_count": 16,
   "metadata": {},
   "outputs": [
    {
     "name": "stdout",
     "output_type": "stream",
     "text": [
      "Columns: ('003_19_IPM (1120-00763) Chan: 1 C Average', '003_19_IPM (1120-00763) Chan: 2 %RH Average')\n"
     ]
    },
    {
     "name": "stderr",
     "output_type": "stream",
     "text": [
      "<ipython-input-16-19a6ab967bac>:150: RuntimeWarning: invalid value encountered in GetHumRatioFromRelHum\n",
      "  hr_value = psychrolib.GetHumRatioFromRelHum(value1, value2 / 100, pressure) * 1000\n"
     ]
    },
    {
     "name": "stdout",
     "output_type": "stream",
     "text": [
      "Columns: ('009_14_C14 (1120-00758) Chan: 1 C Average', '009_14_C14 (1120-00758) Chan: 2 %RH Average')\n"
     ]
    },
    {
     "name": "stderr",
     "output_type": "stream",
     "text": [
      "<ipython-input-16-19a6ab967bac>:150: RuntimeWarning: invalid value encountered in GetHumRatioFromRelHum\n",
      "  hr_value = psychrolib.GetHumRatioFromRelHum(value1, value2 / 100, pressure) * 1000\n"
     ]
    },
    {
     "name": "stdout",
     "output_type": "stream",
     "text": [
      "Columns: ('011_15_Serveur (1120-00759) Chan: 1 C Average', '011_15_Serveur (1120-00759) Chan: 2 %RH Average')\n",
      "Columns: ('013_31_Rubens A (1120-00775) Chan: 1 C Average', '013_31_Rubens A (1120-00775) Chan: 2 %RH Average')\n",
      "Columns: ('013_53_Salle Rubens B (1120-01214) Chan: 1 C Average', '013_53_Salle Rubens B (1120-01214) Chan: 2 %RH Average')\n",
      "Columns: ('016_22_MiCaDas (1120-00766) Chan: 1 C Average', '016_22_MiCaDas (1120-00766) Chan: 2 %RH Average')\n",
      "Columns: ('018_21_Sculpture pierre (1120-00765) Chan: 1 C Average', '018_21_Sculpture pierre (1120-00765) Chan: 2 %RH Average')\n",
      "Columns: ('021_20_Peinture murale (1120-00764) Chan: 1 C Average', '021_20_Peinture murale (1120-00764) Chan: 2 %RH Average')\n"
     ]
    },
    {
     "name": "stderr",
     "output_type": "stream",
     "text": [
      "<ipython-input-16-19a6ab967bac>:150: RuntimeWarning: invalid value encountered in GetHumRatioFromRelHum\n",
      "  hr_value = psychrolib.GetHumRatioFromRelHum(value1, value2 / 100, pressure) * 1000\n"
     ]
    },
    {
     "name": "stdout",
     "output_type": "stream",
     "text": [
      "Columns: ('-101_06_Compactus B (1120-00707) Chan: 1 C Average', '-101_06_Compactus B (1120-00707) Chan: 2 %RH Average')\n"
     ]
    },
    {
     "name": "stderr",
     "output_type": "stream",
     "text": [
      "<ipython-input-16-19a6ab967bac>:150: RuntimeWarning: invalid value encountered in GetHumRatioFromRelHum\n",
      "  hr_value = psychrolib.GetHumRatioFromRelHum(value1, value2 / 100, pressure) * 1000\n"
     ]
    },
    {
     "name": "stdout",
     "output_type": "stream",
     "text": [
      "Columns: ('-101_49_Compactus A (1120-01202) Chan: 1 C Average', '-101_49_Compactus A (1120-01202) Chan: 2 %RH Average')\n",
      "Columns: ('-102b_05_MEB (1120-00750) Chan: 1 C Average', '-102b_05_MEB (1120-00750) Chan: 2 %RH Average')\n"
     ]
    },
    {
     "name": "stderr",
     "output_type": "stream",
     "text": [
      "<ipython-input-16-19a6ab967bac>:150: RuntimeWarning: invalid value encountered in GetHumRatioFromRelHum\n",
      "  hr_value = psychrolib.GetHumRatioFromRelHum(value1, value2 / 100, pressure) * 1000\n"
     ]
    },
    {
     "name": "stdout",
     "output_type": "stream",
     "text": [
      "Columns: ('-106_41_Anoxie (1120-01184) Chan: 1 C Average', '-106_41_Anoxie (1120-01184) Chan: 2 %RH Average')\n",
      "Columns: ('107_13_Infothèque C (1120-00757) Chan: 1 C Average', '107_13_Infothèque C (1120-00757) Chan: 2 %RH Average')\n"
     ]
    },
    {
     "name": "stderr",
     "output_type": "stream",
     "text": [
      "<ipython-input-16-19a6ab967bac>:150: RuntimeWarning: invalid value encountered in GetHumRatioFromRelHum\n",
      "  hr_value = psychrolib.GetHumRatioFromRelHum(value1, value2 / 100, pressure) * 1000\n"
     ]
    },
    {
     "name": "stdout",
     "output_type": "stream",
     "text": [
      "Columns: ('107_25_Réserve précieuse infothèque (1120-00769) Chan: 1 C Average', '107_25_Réserve précieuse infothèque (1120-00769) Chan: 2 %RH Average')\n",
      "Columns: ('107_26_Infothèque A (1120-00770) Chan: 1 C Average', '107_26_Infothèque A (1120-00770) Chan: 2 %RH Average')\n"
     ]
    },
    {
     "name": "stderr",
     "output_type": "stream",
     "text": [
      "<ipython-input-16-19a6ab967bac>:150: RuntimeWarning: invalid value encountered in GetHumRatioFromRelHum\n",
      "  hr_value = psychrolib.GetHumRatioFromRelHum(value1, value2 / 100, pressure) * 1000\n"
     ]
    },
    {
     "name": "stdout",
     "output_type": "stream",
     "text": [
      "Columns: ('107_27_Infothèque B (1120-00771) Chan: 1 C Average', '107_27_Infothèque B (1120-00771) Chan: 2 %RH Average')\n",
      "Columns: ('-111_03_Ancienne C14 (1120-00748) Chan: 1 C Average', '-111_03_Ancienne C14 (1120-00748) Chan: 2 %RH Average')\n"
     ]
    },
    {
     "name": "stderr",
     "output_type": "stream",
     "text": [
      "<ipython-input-16-19a6ab967bac>:150: RuntimeWarning: invalid value encountered in GetHumRatioFromRelHum\n",
      "  hr_value = psychrolib.GetHumRatioFromRelHum(value1, value2 / 100, pressure) * 1000\n"
     ]
    },
    {
     "name": "stdout",
     "output_type": "stream",
     "text": [
      "Columns: ('-116_18_Bunker F (1120-00762) Chan: 1 C Average', '-116_18_Bunker F (1120-00762) Chan: 2 %RH Average')\n",
      "Columns: ('-116_28_Bunker D (1120-00772) Chan: 1 C Average', '-116_28_Bunker D (1120-00772) Chan: 2 %RH Average')\n"
     ]
    },
    {
     "name": "stderr",
     "output_type": "stream",
     "text": [
      "<ipython-input-16-19a6ab967bac>:150: RuntimeWarning: invalid value encountered in GetHumRatioFromRelHum\n",
      "  hr_value = psychrolib.GetHumRatioFromRelHum(value1, value2 / 100, pressure) * 1000\n"
     ]
    },
    {
     "name": "stdout",
     "output_type": "stream",
     "text": [
      "Columns: ('-116_29_Bunker A (1120-00773) Chan: 1 C Average', '-116_29_Bunker A (1120-00773) Chan: 2 %RH Average')\n",
      "Columns: ('-116_30_Bunker B (1120-00774) Chan: 1 C Average', '-116_30_Bunker B (1120-00774) Chan: 2 %RH Average')\n"
     ]
    },
    {
     "name": "stderr",
     "output_type": "stream",
     "text": [
      "<ipython-input-16-19a6ab967bac>:150: RuntimeWarning: invalid value encountered in GetHumRatioFromRelHum\n",
      "  hr_value = psychrolib.GetHumRatioFromRelHum(value1, value2 / 100, pressure) * 1000\n"
     ]
    },
    {
     "name": "stdout",
     "output_type": "stream",
     "text": [
      "Columns: ('-116_32_Bunker E (1120-00776) Chan: 1 C Average', '-116_32_Bunker E (1120-00776) Chan: 2 %RH Average')\n"
     ]
    },
    {
     "name": "stderr",
     "output_type": "stream",
     "text": [
      "<ipython-input-16-19a6ab967bac>:150: RuntimeWarning: invalid value encountered in GetHumRatioFromRelHum\n",
      "  hr_value = psychrolib.GetHumRatioFromRelHum(value1, value2 / 100, pressure) * 1000\n"
     ]
    },
    {
     "name": "stdout",
     "output_type": "stream",
     "text": [
      "Columns: ('-116_33_Bunker C (1120-00777) Chan: 1 C Average', '-116_33_Bunker C (1120-00777) Chan: 2 %RH Average')\n"
     ]
    },
    {
     "name": "stderr",
     "output_type": "stream",
     "text": [
      "<ipython-input-16-19a6ab967bac>:150: RuntimeWarning: invalid value encountered in GetHumRatioFromRelHum\n",
      "  hr_value = psychrolib.GetHumRatioFromRelHum(value1, value2 / 100, pressure) * 1000\n"
     ]
    },
    {
     "name": "stdout",
     "output_type": "stream",
     "text": [
      "Columns: ('-116_52_Bunker G (1120-01210) Chan: 1 C Average', '-116_52_Bunker G (1120-01210) Chan: 2 %RH Average')\n"
     ]
    },
    {
     "name": "stderr",
     "output_type": "stream",
     "text": [
      "<ipython-input-16-19a6ab967bac>:150: RuntimeWarning: invalid value encountered in GetHumRatioFromRelHum\n",
      "  hr_value = psychrolib.GetHumRatioFromRelHum(value1, value2 / 100, pressure) * 1000\n"
     ]
    },
    {
     "name": "stdout",
     "output_type": "stream",
     "text": [
      "Columns: ('-127_12_Stock dendro (1120-00756) Chan: 1 C Average', '-127_12_Stock dendro (1120-00756) Chan: 2 %RH Average')\n"
     ]
    },
    {
     "name": "stderr",
     "output_type": "stream",
     "text": [
      "<ipython-input-16-19a6ab967bac>:150: RuntimeWarning: invalid value encountered in GetHumRatioFromRelHum\n",
      "  hr_value = psychrolib.GetHumRatioFromRelHum(value1, value2 / 100, pressure) * 1000\n"
     ]
    },
    {
     "name": "stdout",
     "output_type": "stream",
     "text": [
      "Columns: ('201_38_Vernissage (1120-01203) Chan: 1 C Average', '201_38_Vernissage (1120-01203) Chan: 2 %RH Average')\n"
     ]
    },
    {
     "name": "stderr",
     "output_type": "stream",
     "text": [
      "<ipython-input-16-19a6ab967bac>:150: RuntimeWarning: invalid value encountered in GetHumRatioFromRelHum\n",
      "  hr_value = psychrolib.GetHumRatioFromRelHum(value1, value2 / 100, pressure) * 1000\n"
     ]
    },
    {
     "name": "stdout",
     "output_type": "stream",
     "text": [
      "Columns: ('201_43_Coffre peinture (1120-01187) Chan: 1 C Average', '201_43_Coffre peinture (1120-01187) Chan: 2 %RH Average')\n"
     ]
    },
    {
     "name": "stderr",
     "output_type": "stream",
     "text": [
      "<ipython-input-16-19a6ab967bac>:150: RuntimeWarning: invalid value encountered in GetHumRatioFromRelHum\n",
      "  hr_value = psychrolib.GetHumRatioFromRelHum(value1, value2 / 100, pressure) * 1000\n"
     ]
    },
    {
     "name": "stdout",
     "output_type": "stream",
     "text": [
      "Columns: ('202_36_Peinture B (1120-00780) Chan: 1 C Average', '202_36_Peinture B (1120-00780) Chan: 2 %RH Average')\n"
     ]
    },
    {
     "name": "stderr",
     "output_type": "stream",
     "text": [
      "<ipython-input-16-19a6ab967bac>:150: RuntimeWarning: invalid value encountered in GetHumRatioFromRelHum\n",
      "  hr_value = psychrolib.GetHumRatioFromRelHum(value1, value2 / 100, pressure) * 1000\n"
     ]
    },
    {
     "name": "stdout",
     "output_type": "stream",
     "text": [
      "Columns: ('202_54_Peinture A (1120-01215) Chan: 1 C Average', '202_54_Peinture A (1120-01215) Chan: 2 %RH Average')\n"
     ]
    },
    {
     "name": "stderr",
     "output_type": "stream",
     "text": [
      "<ipython-input-16-19a6ab967bac>:150: RuntimeWarning: invalid value encountered in GetHumRatioFromRelHum\n",
      "  hr_value = psychrolib.GetHumRatioFromRelHum(value1, value2 / 100, pressure) * 1000\n"
     ]
    },
    {
     "name": "stdout",
     "output_type": "stream",
     "text": [
      "Columns: ('204_40_Peinture MOBILE (1120-00785) Chan: 1 C Average', '204_40_Peinture MOBILE (1120-00785) Chan: 2 %RH Average')\n",
      "Columns: ('204_42_Peinture MOBILE (1120-01185) Chan: 1 C Average', '204_42_Peinture MOBILE (1120-01185) Chan: 2 %RH Average')\n"
     ]
    },
    {
     "name": "stderr",
     "output_type": "stream",
     "text": [
      "<ipython-input-16-19a6ab967bac>:150: RuntimeWarning: invalid value encountered in GetHumRatioFromRelHum\n",
      "  hr_value = psychrolib.GetHumRatioFromRelHum(value1, value2 / 100, pressure) * 1000\n"
     ]
    },
    {
     "name": "stdout",
     "output_type": "stream",
     "text": [
      "Columns: ('205_07_Radiographie (1120-00751) Chan: 1 C Average', '205_07_Radiographie (1120-00751) Chan: 2 %RH Average')\n"
     ]
    },
    {
     "name": "stderr",
     "output_type": "stream",
     "text": [
      "<ipython-input-16-19a6ab967bac>:150: RuntimeWarning: invalid value encountered in GetHumRatioFromRelHum\n",
      "  hr_value = psychrolib.GetHumRatioFromRelHum(value1, value2 / 100, pressure) * 1000\n"
     ]
    },
    {
     "name": "stdout",
     "output_type": "stream",
     "text": [
      "Columns: ('206_09_Studio photo (1120-00753) Chan: 1 C Average', '206_09_Studio photo (1120-00753) Chan: 2 %RH Average')\n"
     ]
    },
    {
     "name": "stderr",
     "output_type": "stream",
     "text": [
      "<ipython-input-16-19a6ab967bac>:150: RuntimeWarning: invalid value encountered in GetHumRatioFromRelHum\n",
      "  hr_value = psychrolib.GetHumRatioFromRelHum(value1, value2 / 100, pressure) * 1000\n"
     ]
    },
    {
     "name": "stdout",
     "output_type": "stream",
     "text": [
      "Columns: ('209_04_Digit (1120-00749) Chan: 1 C Average', '209_04_Digit (1120-00749) Chan: 2 %RH Average')\n"
     ]
    },
    {
     "name": "stderr",
     "output_type": "stream",
     "text": [
      "<ipython-input-16-19a6ab967bac>:150: RuntimeWarning: invalid value encountered in GetHumRatioFromRelHum\n",
      "  hr_value = psychrolib.GetHumRatioFromRelHum(value1, value2 / 100, pressure) * 1000\n"
     ]
    },
    {
     "name": "stdout",
     "output_type": "stream",
     "text": [
      "Columns: ('214_24_Macro-XRF (1120-00768) Chan: 1 C Average', '214_24_Macro-XRF (1120-00768) Chan: 2 %RH Average')\n",
      "Columns: ('224_08_Infrarouge (1120-00752) Chan: 1 C Average', '224_08_Infrarouge (1120-00752) Chan: 2 %RH Average')\n"
     ]
    },
    {
     "name": "stderr",
     "output_type": "stream",
     "text": [
      "<ipython-input-16-19a6ab967bac>:150: RuntimeWarning: invalid value encountered in GetHumRatioFromRelHum\n",
      "  hr_value = psychrolib.GetHumRatioFromRelHum(value1, value2 / 100, pressure) * 1000\n"
     ]
    },
    {
     "name": "stdout",
     "output_type": "stream",
     "text": [
      "Columns: ('230_01_FTIR-TCA-Dendro (1120-00746) Chan: 1 C Average', '230_01_FTIR-TCA-Dendro (1120-00746) Chan: 2 %RH Average')\n"
     ]
    },
    {
     "name": "stderr",
     "output_type": "stream",
     "text": [
      "<ipython-input-16-19a6ab967bac>:150: RuntimeWarning: invalid value encountered in GetHumRatioFromRelHum\n",
      "  hr_value = psychrolib.GetHumRatioFromRelHum(value1, value2 / 100, pressure) * 1000\n"
     ]
    },
    {
     "name": "stdout",
     "output_type": "stream",
     "text": [
      "Columns: ('308_17_Bureau archives (1120-00761) Chan: 1 C Average', '308_17_Bureau archives (1120-00761) Chan: 2 %RH Average')\n",
      "Columns: ('308_23_Réserve archives (1120-00767) Chan: 1 C Average', '308_23_Réserve archives (1120-00767) Chan: 2 %RH Average')\n",
      "Columns: ('405_11_Coupes stratigraphiques (1120-00755) Chan: 1 C Average', '405_11_Coupes stratigraphiques (1120-00755) Chan: 2 %RH Average')\n"
     ]
    },
    {
     "name": "stderr",
     "output_type": "stream",
     "text": [
      "<ipython-input-16-19a6ab967bac>:150: RuntimeWarning: invalid value encountered in GetHumRatioFromRelHum\n",
      "  hr_value = psychrolib.GetHumRatioFromRelHum(value1, value2 / 100, pressure) * 1000\n"
     ]
    },
    {
     "name": "stdout",
     "output_type": "stream",
     "text": [
      "Columns: ('411_02_Grand labo (1120-00747) Chan: 1 C Average', '411_02_Grand labo (1120-00747) Chan: 2 %RH Average')\n"
     ]
    },
    {
     "name": "stderr",
     "output_type": "stream",
     "text": [
      "<ipython-input-16-19a6ab967bac>:150: RuntimeWarning: invalid value encountered in GetHumRatioFromRelHum\n",
      "  hr_value = psychrolib.GetHumRatioFromRelHum(value1, value2 / 100, pressure) * 1000\n"
     ]
    },
    {
     "name": "stdout",
     "output_type": "stream",
     "text": [
      "Columns: ('416_39_Coffre sculpture bois (1120-00783) Chan: 1 C Average', '416_39_Coffre sculpture bois (1120-00783) Chan: 2 %RH Average')\n",
      "Columns: ('416_44_Sculpture bois C (1120-01188) Chan: 1 C Average', '416_44_Sculpture bois C (1120-01188) Chan: 2 %RH Average')\n"
     ]
    },
    {
     "name": "stderr",
     "output_type": "stream",
     "text": [
      "<ipython-input-16-19a6ab967bac>:150: RuntimeWarning: invalid value encountered in GetHumRatioFromRelHum\n",
      "  hr_value = psychrolib.GetHumRatioFromRelHum(value1, value2 / 100, pressure) * 1000\n"
     ]
    },
    {
     "name": "stdout",
     "output_type": "stream",
     "text": [
      "Columns: ('417_45_Sculpture bois B (1120-01193) Chan: 1 C Average', '417_45_Sculpture bois B (1120-01193) Chan: 2 %RH Average')\n",
      "Columns: ('419_46_Sculpture bois A (1120-01194) Chan: 1 C Average', '419_46_Sculpture bois A (1120-01194) Chan: 2 %RH Average')\n",
      "Columns: ('421_34_PrevCons (1120-00778) Chan: 1 C Average', '421_34_PrevCons (1120-00778) Chan: 2 %RH Average')\n"
     ]
    },
    {
     "name": "stderr",
     "output_type": "stream",
     "text": [
      "<ipython-input-16-19a6ab967bac>:150: RuntimeWarning: invalid value encountered in GetHumRatioFromRelHum\n",
      "  hr_value = psychrolib.GetHumRatioFromRelHum(value1, value2 / 100, pressure) * 1000\n"
     ]
    },
    {
     "name": "stdout",
     "output_type": "stream",
     "text": [
      "Columns: ('421_47_Coffre prevcons (1120-01197) Chan: 1 C Average', '421_47_Coffre prevcons (1120-01197) Chan: 2 %RH Average')\n"
     ]
    },
    {
     "name": "stderr",
     "output_type": "stream",
     "text": [
      "<ipython-input-16-19a6ab967bac>:150: RuntimeWarning: invalid value encountered in GetHumRatioFromRelHum\n",
      "  hr_value = psychrolib.GetHumRatioFromRelHum(value1, value2 / 100, pressure) * 1000\n"
     ]
    },
    {
     "name": "stdout",
     "output_type": "stream",
     "text": [
      "Columns: ('422_35_Réserve verre et mobilier (1120-00779) Chan: 1 C Average', '422_35_Réserve verre et mobilier (1120-00779) Chan: 2 %RH Average')\n",
      "Columns: ('426_37_Verre (1120-00781) Chan: 1 C Average', '426_37_Verre (1120-00781) Chan: 2 %RH Average')\n"
     ]
    },
    {
     "name": "stderr",
     "output_type": "stream",
     "text": [
      "<ipython-input-16-19a6ab967bac>:150: RuntimeWarning: invalid value encountered in GetHumRatioFromRelHum\n",
      "  hr_value = psychrolib.GetHumRatioFromRelHum(value1, value2 / 100, pressure) * 1000\n"
     ]
    },
    {
     "name": "stdout",
     "output_type": "stream",
     "text": [
      "Columns: ('501_55_Salle de réunion (1120-01221) Chan: 1 C Average', '501_55_Salle de réunion (1120-01221) Chan: 2 %RH Average')\n"
     ]
    },
    {
     "name": "stderr",
     "output_type": "stream",
     "text": [
      "<ipython-input-16-19a6ab967bac>:150: RuntimeWarning: invalid value encountered in GetHumRatioFromRelHum\n",
      "  hr_value = psychrolib.GetHumRatioFromRelHum(value1, value2 / 100, pressure) * 1000\n"
     ]
    },
    {
     "name": "stdout",
     "output_type": "stream",
     "text": [
      "Columns: ('502_16_Bureau direction (1120-00760) Chan: 1 C Average', '502_16_Bureau direction (1120-00760) Chan: 2 %RH Average')\n"
     ]
    },
    {
     "name": "stderr",
     "output_type": "stream",
     "text": [
      "<ipython-input-16-19a6ab967bac>:150: RuntimeWarning: invalid value encountered in GetHumRatioFromRelHum\n",
      "  hr_value = psychrolib.GetHumRatioFromRelHum(value1, value2 / 100, pressure) * 1000\n"
     ]
    },
    {
     "name": "stdout",
     "output_type": "stream",
     "text": [
      "Columns: ('507_10_Reserve primitifs flamands (1120-00754) Chan: 1 C Average', '507_10_Reserve primitifs flamands (1120-00754) Chan: 2 %RH Average')\n"
     ]
    },
    {
     "name": "stderr",
     "output_type": "stream",
     "text": [
      "<ipython-input-16-19a6ab967bac>:150: RuntimeWarning: invalid value encountered in GetHumRatioFromRelHum\n",
      "  hr_value = psychrolib.GetHumRatioFromRelHum(value1, value2 / 100, pressure) * 1000\n"
     ]
    },
    {
     "name": "stdout",
     "output_type": "stream",
     "text": [
      "Columns: ('528a_48_Textile C (1120-01199) Chan: 1 C Average', '528a_48_Textile C (1120-01199) Chan: 2 %RH Average')\n"
     ]
    },
    {
     "name": "stderr",
     "output_type": "stream",
     "text": [
      "<ipython-input-16-19a6ab967bac>:150: RuntimeWarning: invalid value encountered in GetHumRatioFromRelHum\n",
      "  hr_value = psychrolib.GetHumRatioFromRelHum(value1, value2 / 100, pressure) * 1000\n"
     ]
    },
    {
     "name": "stdout",
     "output_type": "stream",
     "text": [
      "Columns: ('529a_50_Textile A (1120-01204) Chan: 1 C Average', '529a_50_Textile A (1120-01204) Chan: 2 %RH Average')\n"
     ]
    }
   ],
   "source": [
    "# ################\n",
    "# Plot apsychrometric chart using psychrochart\n",
    "# ################\n",
    "\n",
    "import matplotlib as mpl\n",
    "import matplotlib.pyplot as plt\n",
    "import numpy as np\n",
    "from psychrochart import PsychroChart\n",
    "import pandas as pd\n",
    "import psychrolib\n",
    "import seaborn as sns\n",
    "from datetime import datetime\n",
    "\n",
    "mpl.rcParams['figure.dpi'] = 300\n",
    "\n",
    "df = pd.read_csv('All_Sensors_Improved202302151432_Preventive Conserv.csv', sep=';')\n",
    "\n",
    "format_string = \"%d/%m/%Y %H:%M\"\n",
    "\n",
    "df['Date Time'] = df['Date Time'].apply(lambda x: datetime.strptime(x, format_string))\n",
    "\n",
    "def convertir_en_float(chaine):\n",
    "    chaine_modifiee = chaine.replace(',', '.')\n",
    "    chaine_modifiee= chaine_modifiee.replace('-', 'nan')\n",
    "    return float(chaine_modifiee)\n",
    "df[df.columns[1:]] = df[df.columns[1:]].applymap(convertir_en_float)\n",
    "\n",
    "# New column for the season\n",
    "def get_season(month):\n",
    "    if 3 <= month <= 5:\n",
    "        return 'Spring'\n",
    "    elif 6 <= month <= 8:\n",
    "        return 'Summer'\n",
    "    elif 9 <= month <= 11:\n",
    "        return 'Autumn'\n",
    "    else:\n",
    "        return 'Winter'\n",
    "\n",
    "# Retrieve list of column names\n",
    "df.columns = df.columns.str.replace('/', '-')\n",
    "column_names = df.columns\n",
    "## Dictionary to store the resulting DataFrames\n",
    "dfs = {}\n",
    "\n",
    "#  Loop to extract pairs of interesting columns\n",
    "for i in range(54): #len(column_names)-1\n",
    "    # Create a DataFrame with the average columns of the df\n",
    "    selected_columns = df[[column_names[2*i+1], column_names[2*i+2]]] #can change depending on the input file\n",
    "    # Add the resulting DataFrame to the dictionary\n",
    "    dfs[(column_names[2*i+1], column_names[2*i+2])] = selected_columns.copy()\n",
    "\n",
    "# Accéder aux DataFrames individuels\n",
    "for key, selected_df in dfs.items():\n",
    "    print(f\"Columns: {key}\")\n",
    "\n",
    "    # Pass a dict with the changes wanted:\n",
    "    custom_style = {\n",
    "        \"figure\": {\n",
    "            # \"title\": \"Psychrometric Chart (sea level)\",\n",
    "            \"x_label\": \"DRY-BULB TEMPERATURE, $°C$\",\n",
    "            \"y_label\": \"HUMIDITY RATIO $g_w / kg_{da}$\",\n",
    "            \"x_axis\": {\"color\": [1.0, 1.0, 1.0], \"linewidth\": 1.5, \"linestyle\": \"-\"},\n",
    "            \"x_axis_labels\": {\"color\": [1.0, 1.0, 1.0], \"fontsize\": 8},\n",
    "            \"x_axis_ticks\": {\"direction\": \"out\", \"color\": [1.0, 1.0, 1.0]},\n",
    "            \"y_axis\": {\"color\": [1.0, 1.0, 1.0], \"linewidth\": 1.5, \"linestyle\": \"-\"},\n",
    "            \"y_axis_labels\": {\"color\": [1.0, 1.0, 1.0], \"fontsize\": 8},\n",
    "            \"y_axis_ticks\": {\"direction\": \"out\", \"color\": [1.0, 1.0, 1.0]},\n",
    "            \"partial_axis\": False,\n",
    "            \"position\": [0.025, 0.075, 0.925, 0.875]\n",
    "            },\n",
    "        \"limits\": {\n",
    "            \"range_temp_c\": [0, 40],\n",
    "            \"range_humidity_g_kg\": [0, 15],\n",
    "            \"altitude_m\": 0,\n",
    "            \"step_temp\": 1.0\n",
    "            },\n",
    "        \"saturation\": {\"color\": [0.0, 0.0, 0.0], \"linewidth\": 1, \"linestyle\": \"-\"},\n",
    "        \"constant_rh\": {\"color\": [0.8, 0.0, 0.0], \"linewidth\": 1, \"linestyle\": \"-\"},\n",
    "        \"constant_v\": {\"color\": [0.0, 0.4, 0.4], \"linewidth\": 0.5, \"linestyle\": \"-\"},\n",
    "        \"constant_h\": {\"color\": [1, 0.4, 0.0], \"linewidth\": 0.75, \"linestyle\": \"-\"},\n",
    "        \"constant_wet_temp\": {\"color\": [0.2, 0.8, 0.2], \"linewidth\": 1, \"linestyle\": \"--\"},\n",
    "        \"constant_dry_temp\": {\"color\": [0.2, 0.2, 0.2], \"linewidth\": 0.5, \"linestyle\": \"-\"},\n",
    "        \"constant_humidity\": {\"color\": [0.2, 0.2, 0.2], \"linewidth\": 0.5, \"linestyle\": \"-\"},\n",
    "        \"chart_params\": {\n",
    "            \"with_constant_rh\": True,\n",
    "            \"constant_rh_curves\": [20, 30, 40, 50, 60, 70, 80],\n",
    "            \"constant_rh_labels\": [20, 40, 60], # 80],\n",
    "            \"with_constant_v\": False,\n",
    "            \"constant_v_step\": 0.01,\n",
    "            \"range_vol_m3_kg\": [0.78, 0.96],\n",
    "            \"with_constant_h\": False,\n",
    "            \"constant_h_step\": 10,\n",
    "            \"constant_h_labels\": [0],\n",
    "            \"range_h\": [10, 130],\n",
    "            \"with_constant_wet_temp\": False,\n",
    "            \"constant_wet_temp_step\": 1,\n",
    "            \"range_wet_temp\": [-10, 35],\n",
    "            \"constant_wet_temp_labels\": [0, 5, 10, 15, 20], # 25, 30]\n",
    "            \"with_constant_dry_temp\": True,\n",
    "            \"constant_temp_step\": 5,\n",
    "\n",
    "            \"with_constant_humidity\": True,\n",
    "            \"constant_humid_step\": 2,\n",
    "\n",
    "            \"with_zones\": False\n",
    "            }\n",
    "        }\n",
    "\n",
    "    fig, ax = plt.subplots(figsize=(10, 10)) \n",
    "    chart = PsychroChart(custom_style) \n",
    "    chart.plot(ax)\n",
    "\n",
    "# # Append zones:\n",
    "    #zones_conf = {\n",
    "    #    \"zones\":[{\n",
    "    #            \"zone_type\": \"dbt-rh\",\n",
    "    #            \"style\": {\"edgecolor\": [0.498, 0.624, 1.0], #0.498, 0.624, 0.8\n",
    "    #                      \"facecolor\": [0.498, 0.624, 1.0, 0.2],\n",
    "    #                      \"linewidth\": 2,\n",
    "    #                      \"linestyle\": \"-\"},\n",
    "    #            \"points_x\": [8, 16],\n",
    "    #            \"points_y\": [30, 50],\n",
    "    #            \"label\": \"Cool zone\"\n",
    "    #        },\n",
    "    #        {\n",
    "    #            \"zone_type\": \"dbt-rh\",\n",
    "    #            \"style\": {\"edgecolor\": [0.498, 0.624, 0.8],\n",
    "    #                      \"facecolor\": [0.498, 0.624, 1.0, 0.2],\n",
    "    #                      \"linewidth\": 2,\n",
    "    #                      \"linestyle\": \"--\"},\n",
    "    #            \"points_x\": [10.5, 13],\n",
    "    #            \"points_y\": [75.5, 46],\n",
    "    #            \"label\": \"Winter\"\n",
    "            #}\n",
    "#            ]}\n",
    "#    chart.append_zones(zones_conf)\n",
    "#    chart.plot(ax)\n",
    "\n",
    "    pressure = 101325\n",
    "    hr = []\n",
    "    for ix, row in selected_df.iterrows():\n",
    "        value1 = row[key[0]]\n",
    "        value2 = row[key[1]]\n",
    "        if value1 is not None and value2 is not None and value2 != 0:\n",
    "            try:\n",
    "                hr_value = psychrolib.GetHumRatioFromRelHum(value1, value2 / 100, pressure) * 1000\n",
    "                hr.append(hr_value)\n",
    "            except Exception as e:\n",
    "                print(f\"Error calculating HR for values: {value1}, {value2}\")\n",
    "                print(f\"Error message: {str(e)}\")\n",
    "                hr.append(np.nan)\n",
    "        else:\n",
    "            hr.append(np.nan)\n",
    "    selected_df[f\"HR_{key[0]}_{key[1]}\"] = hr\n",
    "    selected_df[\"Date Time\"] = df['Date Time']\n",
    "    selected_df['Season'] = selected_df['Date Time'].dt.month.map(get_season)\n",
    "    sns.histplot(selected_df, x=key[0], y=(f\"HR_{key[0]}_{key[1]}\"), ax=ax, hue='Season', binwidth=0.1)\n",
    "\n",
    "    t_array = np.arange(0, 50, 0.1) #to have only white above 100% humidity\n",
    "    lower_hr = [psychrolib.GetHumRatioFromRelHum(x, 1, pressure) * 1000 for x in t_array]\n",
    "    ax.fill_between(t_array, lower_hr, 100, color='white')\n",
    "\n",
    "    #plt.savefig(f\"Psychro\\psychro_{key[0][0:14]}.png\", transparent=True)\n",
    "    plt.close()\n",
    "\n"
   ]
  }
 ],
 "metadata": {
  "kernelspec": {
   "display_name": "base",
   "language": "python",
   "name": "python3"
  },
  "language_info": {
   "codemirror_mode": {
    "name": "ipython",
    "version": 3
   },
   "file_extension": ".py",
   "mimetype": "text/x-python",
   "name": "python",
   "nbconvert_exporter": "python",
   "pygments_lexer": "ipython3",
   "version": "3.8.3"
  },
  "orig_nbformat": 4,
  "vscode": {
   "interpreter": {
    "hash": "79fae042fb84e2d9429b3d99cd62222c1e807753fe354c91dbb5b71a2d8bab92"
   }
  }
 },
 "nbformat": 4,
 "nbformat_minor": 2
}
